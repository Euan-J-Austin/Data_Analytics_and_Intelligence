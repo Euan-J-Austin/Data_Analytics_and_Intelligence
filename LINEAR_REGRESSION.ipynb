{
  "nbformat": 4,
  "nbformat_minor": 0,
  "metadata": {
    "colab": {
      "provenance": [],
      "mount_file_id": "1-lwct6o9JHcDom6c7Pd2T8VQetsptS8z",
      "authorship_tag": "ABX9TyNhYx7q6vOs3CoSXoi1OX01",
      "include_colab_link": true
    },
    "kernelspec": {
      "name": "python3",
      "display_name": "Python 3"
    },
    "language_info": {
      "name": "python"
    }
  },
  "cells": [
    {
      "cell_type": "markdown",
      "metadata": {
        "id": "view-in-github",
        "colab_type": "text"
      },
      "source": [
        "<a href=\"https://colab.research.google.com/github/Euan-J-Austin/Data_Analytics_and_Intelligence/blob/main/LINEAR_REGRESSION.ipynb\" target=\"_parent\"><img src=\"https://colab.research.google.com/assets/colab-badge.svg\" alt=\"Open In Colab\"/></a>"
      ]
    },
    {
      "cell_type": "markdown",
      "source": [
        "# OVERVIEW"
      ],
      "metadata": {
        "id": "SNqesYQFRNrt"
      }
    },
    {
      "cell_type": "markdown",
      "source": [
        "\n",
        "\n",
        "*   THE STRENGTH FO THE RELATIONSHIP BETWEEN A DEPENDENT VARIABLE (PLOTTED ON THE Y-AXIS) AND INDEPENDENT VARIABLE(S) (PLOTTED ON THE X-AXIS)\n",
        "*   INTUITION? 'WHAT IS THE IMPACT OF X ON Y?'\n",
        "*   CORRELATION C.F. REGRESSION? CORRELATION STUDIES DIRECTION; REGRESSION STUDIES IMPACT.\n",
        "\n",
        "\n",
        "\n"
      ],
      "metadata": {
        "id": "ExfXPr8fRQEQ"
      }
    },
    {
      "cell_type": "markdown",
      "source": [
        "## EQUATION"
      ],
      "metadata": {
        "id": "jskk9lc1Rxjn"
      }
    },
    {
      "cell_type": "markdown",
      "source": [
        "Y = a + b*X + e\n",
        "\n",
        "**a is intercept**\n",
        "\n",
        "**bX is slope**\n",
        "\n",
        "If continous ... 'If X increases by 1, Y increases by b.'\n",
        "\n",
        "If binary ... 'If X happens, Y increases by b.'\n",
        "\n",
        "**e is error term**"
      ],
      "metadata": {
        "id": "uYzcFqqRRz2i"
      }
    },
    {
      "cell_type": "markdown",
      "source": [
        "# DIAMOND CASE STUDY"
      ],
      "metadata": {
        "id": "fbPamknITEys"
      }
    },
    {
      "cell_type": "code",
      "execution_count": 7,
      "metadata": {
        "colab": {
          "base_uri": "https://localhost:8080/"
        },
        "id": "T8vT3N4uPyB8",
        "outputId": "55e1b7b5-fb97-4dcc-8ba2-f5ae9861cfb2"
      },
      "outputs": [
        {
          "output_type": "stream",
          "name": "stdout",
          "text": [
            "/content/drive/.shortcut-targets-by-id/19DFaxKzsTyJQzT1s4FwLYh5D9XB9MI1N/Business Analyst course/Statistics and Descriptive Analytics/Linear Regression\n"
          ]
        }
      ],
      "source": [
        "#MOUNT\n",
        "\n",
        "%cd /content/drive/MyDrive/Business Analyst course/Statistics and Descriptive Analytics/Linear Regression"
      ]
    },
    {
      "cell_type": "code",
      "source": [
        "#LIBRARIES\n",
        "\n",
        "import pandas as pd\n",
        "import statsmodels.api as sm\n",
        "import matplotlib.pyplot as plt\n",
        "import numpy as np"
      ],
      "metadata": {
        "id": "eirtr8-UTKYy"
      },
      "execution_count": 8,
      "outputs": []
    },
    {
      "cell_type": "code",
      "source": [
        "#DATA\n",
        "\n",
        "df = pd.read_csv('diamond.csv')"
      ],
      "metadata": {
        "id": "tJWC5koSTOdr"
      },
      "execution_count": 9,
      "outputs": []
    },
    {
      "cell_type": "markdown",
      "source": [
        "## DATA PREPARATION"
      ],
      "metadata": {
        "id": "XOaWKVOnUI6u"
      }
    },
    {
      "cell_type": "markdown",
      "source": [
        "### ISOLATE X AND Y"
      ],
      "metadata": {
        "id": "Zei_mO8hUXKP"
      }
    },
    {
      "cell_type": "code",
      "source": [
        "y = df.price\n",
        "y"
      ],
      "metadata": {
        "id": "7JC_K4DeUa0O"
      },
      "execution_count": null,
      "outputs": []
    },
    {
      "cell_type": "code",
      "source": [
        "x = df.carat\n",
        "x"
      ],
      "metadata": {
        "id": "zakByMnwUiWV"
      },
      "execution_count": null,
      "outputs": []
    },
    {
      "cell_type": "markdown",
      "source": [
        "### ADDING CONSTANT"
      ],
      "metadata": {
        "id": "R8bZtqlmUpNH"
      }
    },
    {
      "cell_type": "code",
      "source": [
        "X = sm.add_constant(x)"
      ],
      "metadata": {
        "id": "8idUuxoVUrMx"
      },
      "execution_count": 26,
      "outputs": []
    },
    {
      "cell_type": "code",
      "source": [
        "X.head()"
      ],
      "metadata": {
        "colab": {
          "base_uri": "https://localhost:8080/",
          "height": 206
        },
        "id": "b8oVUxhwXGDY",
        "outputId": "38c85a99-59e4-4703-c283-5d3facc71bff"
      },
      "execution_count": 33,
      "outputs": [
        {
          "output_type": "execute_result",
          "data": {
            "text/plain": [
              "   const  carat\n",
              "0    1.0   0.30\n",
              "1    1.0   0.30\n",
              "2    1.0   0.30\n",
              "3    1.0   0.30\n",
              "4    1.0   0.31"
            ],
            "text/html": [
              "\n",
              "  <div id=\"df-7fdc3c01-06ce-4eca-8f88-cdbc790ac98d\" class=\"colab-df-container\">\n",
              "    <div>\n",
              "<style scoped>\n",
              "    .dataframe tbody tr th:only-of-type {\n",
              "        vertical-align: middle;\n",
              "    }\n",
              "\n",
              "    .dataframe tbody tr th {\n",
              "        vertical-align: top;\n",
              "    }\n",
              "\n",
              "    .dataframe thead th {\n",
              "        text-align: right;\n",
              "    }\n",
              "</style>\n",
              "<table border=\"1\" class=\"dataframe\">\n",
              "  <thead>\n",
              "    <tr style=\"text-align: right;\">\n",
              "      <th></th>\n",
              "      <th>const</th>\n",
              "      <th>carat</th>\n",
              "    </tr>\n",
              "  </thead>\n",
              "  <tbody>\n",
              "    <tr>\n",
              "      <th>0</th>\n",
              "      <td>1.0</td>\n",
              "      <td>0.30</td>\n",
              "    </tr>\n",
              "    <tr>\n",
              "      <th>1</th>\n",
              "      <td>1.0</td>\n",
              "      <td>0.30</td>\n",
              "    </tr>\n",
              "    <tr>\n",
              "      <th>2</th>\n",
              "      <td>1.0</td>\n",
              "      <td>0.30</td>\n",
              "    </tr>\n",
              "    <tr>\n",
              "      <th>3</th>\n",
              "      <td>1.0</td>\n",
              "      <td>0.30</td>\n",
              "    </tr>\n",
              "    <tr>\n",
              "      <th>4</th>\n",
              "      <td>1.0</td>\n",
              "      <td>0.31</td>\n",
              "    </tr>\n",
              "  </tbody>\n",
              "</table>\n",
              "</div>\n",
              "    <div class=\"colab-df-buttons\">\n",
              "\n",
              "  <div class=\"colab-df-container\">\n",
              "    <button class=\"colab-df-convert\" onclick=\"convertToInteractive('df-7fdc3c01-06ce-4eca-8f88-cdbc790ac98d')\"\n",
              "            title=\"Convert this dataframe to an interactive table.\"\n",
              "            style=\"display:none;\">\n",
              "\n",
              "  <svg xmlns=\"http://www.w3.org/2000/svg\" height=\"24px\" viewBox=\"0 -960 960 960\">\n",
              "    <path d=\"M120-120v-720h720v720H120Zm60-500h600v-160H180v160Zm220 220h160v-160H400v160Zm0 220h160v-160H400v160ZM180-400h160v-160H180v160Zm440 0h160v-160H620v160ZM180-180h160v-160H180v160Zm440 0h160v-160H620v160Z\"/>\n",
              "  </svg>\n",
              "    </button>\n",
              "\n",
              "  <style>\n",
              "    .colab-df-container {\n",
              "      display:flex;\n",
              "      gap: 12px;\n",
              "    }\n",
              "\n",
              "    .colab-df-convert {\n",
              "      background-color: #E8F0FE;\n",
              "      border: none;\n",
              "      border-radius: 50%;\n",
              "      cursor: pointer;\n",
              "      display: none;\n",
              "      fill: #1967D2;\n",
              "      height: 32px;\n",
              "      padding: 0 0 0 0;\n",
              "      width: 32px;\n",
              "    }\n",
              "\n",
              "    .colab-df-convert:hover {\n",
              "      background-color: #E2EBFA;\n",
              "      box-shadow: 0px 1px 2px rgba(60, 64, 67, 0.3), 0px 1px 3px 1px rgba(60, 64, 67, 0.15);\n",
              "      fill: #174EA6;\n",
              "    }\n",
              "\n",
              "    .colab-df-buttons div {\n",
              "      margin-bottom: 4px;\n",
              "    }\n",
              "\n",
              "    [theme=dark] .colab-df-convert {\n",
              "      background-color: #3B4455;\n",
              "      fill: #D2E3FC;\n",
              "    }\n",
              "\n",
              "    [theme=dark] .colab-df-convert:hover {\n",
              "      background-color: #434B5C;\n",
              "      box-shadow: 0px 1px 3px 1px rgba(0, 0, 0, 0.15);\n",
              "      filter: drop-shadow(0px 1px 2px rgba(0, 0, 0, 0.3));\n",
              "      fill: #FFFFFF;\n",
              "    }\n",
              "  </style>\n",
              "\n",
              "    <script>\n",
              "      const buttonEl =\n",
              "        document.querySelector('#df-7fdc3c01-06ce-4eca-8f88-cdbc790ac98d button.colab-df-convert');\n",
              "      buttonEl.style.display =\n",
              "        google.colab.kernel.accessAllowed ? 'block' : 'none';\n",
              "\n",
              "      async function convertToInteractive(key) {\n",
              "        const element = document.querySelector('#df-7fdc3c01-06ce-4eca-8f88-cdbc790ac98d');\n",
              "        const dataTable =\n",
              "          await google.colab.kernel.invokeFunction('convertToInteractive',\n",
              "                                                    [key], {});\n",
              "        if (!dataTable) return;\n",
              "\n",
              "        const docLinkHtml = 'Like what you see? Visit the ' +\n",
              "          '<a target=\"_blank\" href=https://colab.research.google.com/notebooks/data_table.ipynb>data table notebook</a>'\n",
              "          + ' to learn more about interactive tables.';\n",
              "        element.innerHTML = '';\n",
              "        dataTable['output_type'] = 'display_data';\n",
              "        await google.colab.output.renderOutput(dataTable, element);\n",
              "        const docLink = document.createElement('div');\n",
              "        docLink.innerHTML = docLinkHtml;\n",
              "        element.appendChild(docLink);\n",
              "      }\n",
              "    </script>\n",
              "  </div>\n",
              "\n",
              "\n",
              "<div id=\"df-b3b76c1d-6f60-4670-ac9d-fba8dce07612\">\n",
              "  <button class=\"colab-df-quickchart\" onclick=\"quickchart('df-b3b76c1d-6f60-4670-ac9d-fba8dce07612')\"\n",
              "            title=\"Suggest charts\"\n",
              "            style=\"display:none;\">\n",
              "\n",
              "<svg xmlns=\"http://www.w3.org/2000/svg\" height=\"24px\"viewBox=\"0 0 24 24\"\n",
              "     width=\"24px\">\n",
              "    <g>\n",
              "        <path d=\"M19 3H5c-1.1 0-2 .9-2 2v14c0 1.1.9 2 2 2h14c1.1 0 2-.9 2-2V5c0-1.1-.9-2-2-2zM9 17H7v-7h2v7zm4 0h-2V7h2v10zm4 0h-2v-4h2v4z\"/>\n",
              "    </g>\n",
              "</svg>\n",
              "  </button>\n",
              "\n",
              "<style>\n",
              "  .colab-df-quickchart {\n",
              "      --bg-color: #E8F0FE;\n",
              "      --fill-color: #1967D2;\n",
              "      --hover-bg-color: #E2EBFA;\n",
              "      --hover-fill-color: #174EA6;\n",
              "      --disabled-fill-color: #AAA;\n",
              "      --disabled-bg-color: #DDD;\n",
              "  }\n",
              "\n",
              "  [theme=dark] .colab-df-quickchart {\n",
              "      --bg-color: #3B4455;\n",
              "      --fill-color: #D2E3FC;\n",
              "      --hover-bg-color: #434B5C;\n",
              "      --hover-fill-color: #FFFFFF;\n",
              "      --disabled-bg-color: #3B4455;\n",
              "      --disabled-fill-color: #666;\n",
              "  }\n",
              "\n",
              "  .colab-df-quickchart {\n",
              "    background-color: var(--bg-color);\n",
              "    border: none;\n",
              "    border-radius: 50%;\n",
              "    cursor: pointer;\n",
              "    display: none;\n",
              "    fill: var(--fill-color);\n",
              "    height: 32px;\n",
              "    padding: 0;\n",
              "    width: 32px;\n",
              "  }\n",
              "\n",
              "  .colab-df-quickchart:hover {\n",
              "    background-color: var(--hover-bg-color);\n",
              "    box-shadow: 0 1px 2px rgba(60, 64, 67, 0.3), 0 1px 3px 1px rgba(60, 64, 67, 0.15);\n",
              "    fill: var(--button-hover-fill-color);\n",
              "  }\n",
              "\n",
              "  .colab-df-quickchart-complete:disabled,\n",
              "  .colab-df-quickchart-complete:disabled:hover {\n",
              "    background-color: var(--disabled-bg-color);\n",
              "    fill: var(--disabled-fill-color);\n",
              "    box-shadow: none;\n",
              "  }\n",
              "\n",
              "  .colab-df-spinner {\n",
              "    border: 2px solid var(--fill-color);\n",
              "    border-color: transparent;\n",
              "    border-bottom-color: var(--fill-color);\n",
              "    animation:\n",
              "      spin 1s steps(1) infinite;\n",
              "  }\n",
              "\n",
              "  @keyframes spin {\n",
              "    0% {\n",
              "      border-color: transparent;\n",
              "      border-bottom-color: var(--fill-color);\n",
              "      border-left-color: var(--fill-color);\n",
              "    }\n",
              "    20% {\n",
              "      border-color: transparent;\n",
              "      border-left-color: var(--fill-color);\n",
              "      border-top-color: var(--fill-color);\n",
              "    }\n",
              "    30% {\n",
              "      border-color: transparent;\n",
              "      border-left-color: var(--fill-color);\n",
              "      border-top-color: var(--fill-color);\n",
              "      border-right-color: var(--fill-color);\n",
              "    }\n",
              "    40% {\n",
              "      border-color: transparent;\n",
              "      border-right-color: var(--fill-color);\n",
              "      border-top-color: var(--fill-color);\n",
              "    }\n",
              "    60% {\n",
              "      border-color: transparent;\n",
              "      border-right-color: var(--fill-color);\n",
              "    }\n",
              "    80% {\n",
              "      border-color: transparent;\n",
              "      border-right-color: var(--fill-color);\n",
              "      border-bottom-color: var(--fill-color);\n",
              "    }\n",
              "    90% {\n",
              "      border-color: transparent;\n",
              "      border-bottom-color: var(--fill-color);\n",
              "    }\n",
              "  }\n",
              "</style>\n",
              "\n",
              "  <script>\n",
              "    async function quickchart(key) {\n",
              "      const quickchartButtonEl =\n",
              "        document.querySelector('#' + key + ' button');\n",
              "      quickchartButtonEl.disabled = true;  // To prevent multiple clicks.\n",
              "      quickchartButtonEl.classList.add('colab-df-spinner');\n",
              "      try {\n",
              "        const charts = await google.colab.kernel.invokeFunction(\n",
              "            'suggestCharts', [key], {});\n",
              "      } catch (error) {\n",
              "        console.error('Error during call to suggestCharts:', error);\n",
              "      }\n",
              "      quickchartButtonEl.classList.remove('colab-df-spinner');\n",
              "      quickchartButtonEl.classList.add('colab-df-quickchart-complete');\n",
              "    }\n",
              "    (() => {\n",
              "      let quickchartButtonEl =\n",
              "        document.querySelector('#df-b3b76c1d-6f60-4670-ac9d-fba8dce07612 button');\n",
              "      quickchartButtonEl.style.display =\n",
              "        google.colab.kernel.accessAllowed ? 'block' : 'none';\n",
              "    })();\n",
              "  </script>\n",
              "</div>\n",
              "    </div>\n",
              "  </div>\n"
            ]
          },
          "metadata": {},
          "execution_count": 33
        }
      ]
    },
    {
      "cell_type": "markdown",
      "source": [
        "### LINEAR REGRESSION MODEL"
      ],
      "metadata": {
        "id": "h1-xsNF8Ve-l"
      }
    },
    {
      "cell_type": "code",
      "source": [
        "model1 = sm.OLS(y, X).fit()"
      ],
      "metadata": {
        "id": "VS-8ritNViUA"
      },
      "execution_count": 34,
      "outputs": []
    },
    {
      "cell_type": "code",
      "source": [
        "print(model1.summary())"
      ],
      "metadata": {
        "colab": {
          "base_uri": "https://localhost:8080/"
        },
        "id": "CqNXhCnyXIw0",
        "outputId": "4af45cf0-d768-413f-9adb-2abf56249ffd"
      },
      "execution_count": 35,
      "outputs": [
        {
          "output_type": "stream",
          "name": "stdout",
          "text": [
            "                            OLS Regression Results                            \n",
            "==============================================================================\n",
            "Dep. Variable:                  price   R-squared:                       0.893\n",
            "Model:                            OLS   Adj. R-squared:                  0.892\n",
            "Method:                 Least Squares   F-statistic:                     2541.\n",
            "Date:                Fri, 24 Nov 2023   Prob (F-statistic):          3.04e-150\n",
            "Time:                        22:04:23   Log-Likelihood:                -2597.9\n",
            "No. Observations:                 308   AIC:                             5200.\n",
            "Df Residuals:                     306   BIC:                             5207.\n",
            "Df Model:                           1                                         \n",
            "Covariance Type:            nonrobust                                         \n",
            "==============================================================================\n",
            "                 coef    std err          t      P>|t|      [0.025      0.975]\n",
            "------------------------------------------------------------------------------\n",
            "const      -2298.3576    158.531    -14.498      0.000   -2610.306   -1986.410\n",
            "carat        1.16e+04    230.111     50.406      0.000    1.11e+04    1.21e+04\n",
            "==============================================================================\n",
            "Omnibus:                      170.301   Durbin-Watson:                   1.216\n",
            "Prob(Omnibus):                  0.000   Jarque-Bera (JB):             1324.411\n",
            "Skew:                           2.168   Prob(JB):                    2.56e-288\n",
            "Kurtosis:                      12.187   Cond. No.                         5.13\n",
            "==============================================================================\n",
            "\n",
            "Notes:\n",
            "[1] Standard Errors assume that the covariance matrix of the errors is correctly specified.\n"
          ]
        }
      ]
    },
    {
      "cell_type": "markdown",
      "source": [
        "### VISUALISATION"
      ],
      "metadata": {
        "id": "U9tVfpDRXNI8"
      }
    },
    {
      "cell_type": "code",
      "source": [
        "#plots the observations\n",
        "plt.plot(x, y, 'ro')\n",
        "#plots the line showing relationship\n",
        "b, a = np.polyfit(x, y, 1)\n",
        "plt.plot(x, b * x + a)\n",
        "#plotting axis\n",
        "plt.xlabel('Carat')\n",
        "plt.ylabel('Price')"
      ],
      "metadata": {
        "colab": {
          "base_uri": "https://localhost:8080/",
          "height": 467
        },
        "id": "rnchcnVCXsVP",
        "outputId": "35bd4987-d796-4b0a-eb9e-3bdd7096f355"
      },
      "execution_count": 48,
      "outputs": [
        {
          "output_type": "execute_result",
          "data": {
            "text/plain": [
              "Text(0, 0.5, 'Price')"
            ]
          },
          "metadata": {},
          "execution_count": 48
        },
        {
          "output_type": "display_data",
          "data": {
            "text/plain": [
              "<Figure size 640x480 with 1 Axes>"
            ],
            "image/png": "[encoded data removed]"
          },
          "metadata": {}
        }
      ]
    },
    {
      "cell_type": "markdown",
      "source": [
        "### DUMMY VARIABLE TRAP"
      ],
      "metadata": {
        "id": "9SLkr5k9Y25i"
      }
    },
    {
      "cell_type": "markdown",
      "source": [
        "If one observations is True/Yes/1 and others are False/No/0 the a false correlation will follow. If 'Yes' for Coca-Cola, the 'No' for Pepsi is implied. The dummy variable is removed, become the 'baseline' or a part of the intercept."
      ],
      "metadata": {
        "id": "C6alRf9jY_kw"
      }
    },
    {
      "cell_type": "markdown",
      "source": [
        "### LINEAR REGESSION WITH DUMMY VARIABLE"
      ],
      "metadata": {
        "id": "oUjUfrDJaSD9"
      }
    },
    {
      "cell_type": "code",
      "source": [
        "df.carat.describe()"
      ],
      "metadata": {
        "colab": {
          "base_uri": "https://localhost:8080/"
        },
        "id": "25ROGKa6aVq7",
        "outputId": "fc429d94-67c6-4750-fb02-f75b2be369a7"
      },
      "execution_count": 49,
      "outputs": [
        {
          "output_type": "execute_result",
          "data": {
            "text/plain": [
              "count    308.000000\n",
              "mean       0.630909\n",
              "std        0.277183\n",
              "min        0.180000\n",
              "25%        0.350000\n",
              "50%        0.620000\n",
              "75%        0.850000\n",
              "max        1.100000\n",
              "Name: carat, dtype: float64"
            ]
          },
          "metadata": {},
          "execution_count": 49
        }
      ]
    },
    {
      "cell_type": "code",
      "source": [
        "# CREATE BINARY VARIABLE\n",
        "\n",
        "df['carat_binary'] = np.where(df.carat > df.carat.mean(), 1, 0)"
      ],
      "metadata": {
        "id": "a3yjyP-3aqPp"
      },
      "execution_count": 51,
      "outputs": []
    },
    {
      "cell_type": "code",
      "source": [
        "# LINEAR REGRESSION WITH BINARY VARIABLE\n",
        "\n",
        "y, x, X = df.price, df.carat_binary, sm.add_constant(x)"
      ],
      "metadata": {
        "id": "opJMnl0da6ua"
      },
      "execution_count": null,
      "outputs": []
    },
    {
      "cell_type": "code",
      "source": [
        "model_binary = sm.OLS(y, X).fit()"
      ],
      "metadata": {
        "id": "F66ikWdcbZwI"
      },
      "execution_count": 57,
      "outputs": []
    },
    {
      "cell_type": "code",
      "source": [
        "print(model_binary.summary())"
      ],
      "metadata": {
        "colab": {
          "base_uri": "https://localhost:8080/"
        },
        "id": "m8ntT_W4bdOd",
        "outputId": "9e99bc52-c80a-4e1d-c616-8ae3cd135ff0"
      },
      "execution_count": 64,
      "outputs": [
        {
          "output_type": "stream",
          "name": "stdout",
          "text": [
            "                            OLS Regression Results                            \n",
            "==============================================================================\n",
            "Dep. Variable:                  price   R-squared:                       0.663\n",
            "Model:                            OLS   Adj. R-squared:                  0.662\n",
            "Method:                 Least Squares   F-statistic:                     601.0\n",
            "Date:                Fri, 24 Nov 2023   Prob (F-statistic):           3.54e-74\n",
            "Time:                        22:25:30   Log-Likelihood:                -2774.0\n",
            "No. Observations:                 308   AIC:                             5552.\n",
            "Df Residuals:                     306   BIC:                             5559.\n",
            "Df Model:                           1                                         \n",
            "Covariance Type:            nonrobust                                         \n",
            "================================================================================\n",
            "                   coef    std err          t      P>|t|      [0.025      0.975]\n",
            "--------------------------------------------------------------------------------\n",
            "const         2307.1592    158.014     14.601      0.000    1996.228    2618.090\n",
            "carat_binary  5532.4235    225.674     24.515      0.000    5088.354    5976.493\n",
            "==============================================================================\n",
            "Omnibus:                       32.415   Durbin-Watson:                   0.544\n",
            "Prob(Omnibus):                  0.000   Jarque-Bera (JB):               45.904\n",
            "Skew:                           0.704   Prob(JB):                     1.08e-10\n",
            "Kurtosis:                       4.262   Cond. No.                         2.60\n",
            "==============================================================================\n",
            "\n",
            "Notes:\n",
            "[1] Standard Errors assume that the covariance matrix of the errors is correctly specified.\n"
          ]
        }
      ]
    },
    {
      "cell_type": "code",
      "source": [
        "#plots the observations\n",
        "plt.plot(x, y, 'go')\n",
        "#plots the line showing relationship\n",
        "b, a = np.polyfit(x, y, 1)\n",
        "plt.plot(x, b * x + a)\n",
        "#plotting axis\n",
        "plt.xlabel('Carat below or above mean')\n",
        "plt.ylabel('Price')"
      ],
      "metadata": {
        "colab": {
          "base_uri": "https://localhost:8080/",
          "height": 467
        },
        "id": "dlSFgXi_bncF",
        "outputId": "9c16fcee-2d99-4b6e-e9bd-0b12ba74caae"
      },
      "execution_count": 63,
      "outputs": [
        {
          "output_type": "execute_result",
          "data": {
            "text/plain": [
              "Text(0, 0.5, 'Price')"
            ]
          },
          "metadata": {},
          "execution_count": 63
        },
        {
          "output_type": "display_data",
          "data": {
            "text/plain": [
              "<Figure size 640x480 with 1 Axes>"
            ],
            "image/png": "[encoded data removed]"
          },
          "metadata": {}
        }
      ]
    }
  ]
}